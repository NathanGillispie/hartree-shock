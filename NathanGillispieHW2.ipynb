{
 "cells": [
  {
   "cell_type": "markdown",
   "id": "94a1f2cf-2368-4811-8241-d32a12dff641",
   "metadata": {},
   "source": [
    "# Nathan Gillispie Assignment 2\n",
    "## 1 Pi Approximation\n",
    "Compute the decimals of Pi using the Wallis formula and show the running time:\n",
    "\n",
    "$\\pi = 2\\displaystyle\\prod_{i=1}^\\infty \\frac{4i^2}{4i^2-1}$\n",
    "\n",
    "Here $\\infty$ can be replaced by a large integer number."
   ]
  },
  {
   "cell_type": "code",
   "execution_count": 8,
   "id": "927e5e7d-56b2-4add-8d5c-9303f2affef7",
   "metadata": {},
   "outputs": [],
   "source": [
    "def approx_pi(n):\n",
    "    product = 1.\n",
    "    for i in range(1, n+1):\n",
    "        product *= 4*i**2 / (4*i**2 - 1)\n",
    "    return 2*product"
   ]
  },
  {
   "cell_type": "code",
   "execution_count": 17,
   "id": "fa803ef0-443b-481a-87d2-162b1bbff63f",
   "metadata": {},
   "outputs": [
    {
     "name": "stdout",
     "output_type": "stream",
     "text": [
      "CPU times: user 246 ms, sys: 0 ns, total: 246 ms\n",
      "Wall time: 231 ms\n",
      "\n",
      "π ≈ 3.14159187 with 1000000 iterations\n"
     ]
    }
   ],
   "source": [
    "n = int(1e6)\n",
    "%time p = approx_pi(n)\n",
    "print(\"\\nπ ≈ %.8f with %d iterations\"%(p,n))"
   ]
  },
  {
   "cell_type": "markdown",
   "id": "8c9f67b8-acc6-4ba4-bebf-181a6a75a891",
   "metadata": {},
   "source": [
    "## 2 Fibbonacci\n",
    "Write a function that displays the n first terms of the Fibonacci sequence, defined by: \\begin{cases} U_0 = 0\\\\ U_1 = 1\\\\ U_{n+2} = U_{n+1} + U_n \\end{cases}\n",
    "\n"
   ]
  },
  {
   "cell_type": "code",
   "execution_count": 113,
   "id": "3fd2e317-d267-438d-985c-5588faa6883b",
   "metadata": {},
   "outputs": [
    {
     "name": "stdout",
     "output_type": "stream",
     "text": [
      "[0, 1, 1, 2, 3, 5, 8, 13, 21, 34, 55, 89, 144, 233, 377, 610, 987, 1597, 2584, 4181]\n"
     ]
    }
   ],
   "source": [
    "def fib(n: int) -> list:\n",
    "    fib = [0,1]\n",
    "    for i in range(n-2):\n",
    "        fib.append(fib[i] + fib[i+1])\n",
    "    return fib\n",
    "print(fib(20))"
   ]
  },
  {
   "cell_type": "markdown",
   "id": "e719286f-b155-4644-9cbe-f05a808d99cd",
   "metadata": {},
   "source": [
    "## 3 `__lt__` and `__eq__`\n",
    "The following are the atomic numbers of lithium, carbon, and sodium. Assign each to a variable and use Python Boolean logic operators to evaluate each of the following.\n",
    "\n",
    "Li, C, Na = 3, 6, 11\n",
    "\n",
    "1. Is Li greater than C?\n",
    "2. Is Na less than or equal to C?\n",
    "3. Is either Li or Na greater than C?\n",
    "4. Are both C and Na greater than Li?"
   ]
  },
  {
   "cell_type": "code",
   "execution_count": 11,
   "id": "e3f2a699-399f-4b79-8fc2-8700af571448",
   "metadata": {},
   "outputs": [],
   "source": [
    "Li, C, Na = 3, 6, 11"
   ]
  },
  {
   "cell_type": "code",
   "execution_count": 14,
   "id": "640660ab-83c2-4d23-a1ba-c28c0511c6e7",
   "metadata": {},
   "outputs": [
    {
     "data": {
      "text/plain": [
       "False"
      ]
     },
     "execution_count": 14,
     "metadata": {},
     "output_type": "execute_result"
    }
   ],
   "source": [
    "Li > C"
   ]
  },
  {
   "cell_type": "code",
   "execution_count": 15,
   "id": "d030acad-549b-42ba-8e4f-4fc02ca63b3c",
   "metadata": {},
   "outputs": [
    {
     "data": {
      "text/plain": [
       "False"
      ]
     },
     "execution_count": 15,
     "metadata": {},
     "output_type": "execute_result"
    }
   ],
   "source": [
    "Na <= C"
   ]
  },
  {
   "cell_type": "code",
   "execution_count": 17,
   "id": "df216972-bdb5-4588-bf3d-464be5c8d298",
   "metadata": {},
   "outputs": [
    {
     "data": {
      "text/plain": [
       "True"
      ]
     },
     "execution_count": 17,
     "metadata": {},
     "output_type": "execute_result"
    }
   ],
   "source": [
    "(Li > C) | (Na > C)"
   ]
  },
  {
   "cell_type": "code",
   "execution_count": 18,
   "id": "8ab8fe72-50c7-4278-b075-03fe7ab8b4d7",
   "metadata": {},
   "outputs": [
    {
     "data": {
      "text/plain": [
       "True"
      ]
     },
     "execution_count": 18,
     "metadata": {},
     "output_type": "execute_result"
    }
   ],
   "source": [
    "(C > Li) & (Na > Li)"
   ]
  },
  {
   "cell_type": "markdown",
   "id": "9c303da8-7c2f-4e7e-8438-2a3c2e0a6a21",
   "metadata": {},
   "source": [
    "## 4 DNA\n",
    "DNA is composed of two strands of the nucleotides adenine (A), thymine (T), guanine (G), and cytosine (C). The two strands are lined up with adenine always opposite of thymine and guanine opposite cytosine. For example, if one strand is ATGGC, then the opposite strand is TACCG. Write a function that takes in a DNA strand as a string and prints the opposite DNA strand of nucleotides."
   ]
  },
  {
   "cell_type": "code",
   "execution_count": 31,
   "id": "f2e0fe30-dbcb-4d46-8e14-6ac207369f4e",
   "metadata": {},
   "outputs": [
    {
     "data": {
      "text/plain": [
       "'TACCG'"
      ]
     },
     "execution_count": 31,
     "metadata": {},
     "output_type": "execute_result"
    }
   ],
   "source": [
    "def DNA_flip(seq):\n",
    "    seq = seq.upper() \n",
    "    alt = \"\"\n",
    "    for letter in seq:\n",
    "        match letter:\n",
    "            case \"A\":\n",
    "                alt += \"T\"\n",
    "            case \"T\":\n",
    "                alt += \"A\"\n",
    "            case \"G\":\n",
    "                alt += \"C\"\n",
    "            case \"C\":\n",
    "                alt += \"G\"\n",
    "            case _:\n",
    "                print(\"Not DNA sequence\")\n",
    "                return None\n",
    "    return alt\n",
    "    \n",
    "DNA_flip(\"atggc\")"
   ]
  },
  {
   "cell_type": "markdown",
   "id": "cf631a8c-d08c-4d6a-8c25-caecf72a53a2",
   "metadata": {},
   "source": [
    "# 5 reaction rate\n",
    "Complete a function started below that calculates the rate of a single-step chemical reaction nA → P using the differential rate law (Rate = k[A]$^n$)."
   ]
  },
  {
   "cell_type": "code",
   "execution_count": 54,
   "id": "e83e0d3b-44f5-44b5-8f07-3cd68ad97dc3",
   "metadata": {},
   "outputs": [],
   "source": [
    "def rate(A0, k=1.0, n=1):\n",
    "    ''' (concentration(M), k = 1.0, n = 1) → rate (M/s)\n",
    "    Takes in the concentration of A (M), the rate constant (k), \n",
    "    and the order (n) and returns the rate (M/s)\n",
    "    '''\n",
    "    return k * A0 ** n"
   ]
  },
  {
   "cell_type": "code",
   "execution_count": 55,
   "id": "febbcaf5-df49-4a1d-a578-519e16504129",
   "metadata": {},
   "outputs": [
    {
     "data": {
      "text/plain": [
       "0.001"
      ]
     },
     "execution_count": 55,
     "metadata": {},
     "output_type": "execute_result"
    }
   ],
   "source": [
    "rate(.001)"
   ]
  },
  {
   "cell_type": "markdown",
   "id": "b7b9c0a6-ee45-483f-bbde-6cfe5937beee",
   "metadata": {},
   "source": [
    "# 6 `xyz` file and dist\n",
    "Save the information below about a water molecule in a text file. Use the np.genfromtxt() method to read the atom xyz coordinates, and then calculate the atom-atom distance between each atom pair using a distance calculation function (you need to define this function).\n"
   ]
  },
  {
   "cell_type": "code",
   "execution_count": 56,
   "id": "2e76c839-936c-4403-b06c-525794923567",
   "metadata": {},
   "outputs": [],
   "source": [
    "import numpy as np"
   ]
  },
  {
   "cell_type": "code",
   "execution_count": 108,
   "id": "d890bc48-bf05-4fc2-886a-e9f5132a73e1",
   "metadata": {},
   "outputs": [
    {
     "name": "stdout",
     "output_type": "stream",
     "text": [
      "[[ 0.       -0.007156  0.965491]\n",
      " [-0.        0.001486 -0.003471]\n",
      " [ 0.        0.931026  1.207929]]\n"
     ]
    }
   ],
   "source": [
    "water_xyz = \"\"\"3\n",
    "Water xyz file\n",
    "O        0.000000     -0.007156      0.965491\n",
    "H1      -0.000000      0.001486     -0.003471\n",
    "H2       0.000000      0.931026      1.207929\"\"\"\n",
    "\n",
    "water_xyz = water_xyz.split(\"\\n\")\n",
    "print(mol := np.genfromtxt(water_xyz, skip_header=2, usecols=(1,2,3)))"
   ]
  },
  {
   "cell_type": "code",
   "execution_count": 110,
   "id": "896a7432-7115-4d16-9590-092716442de7",
   "metadata": {},
   "outputs": [
    {
     "name": "stdout",
     "output_type": "stream",
     "text": [
      "distance atom1 to atom2 = 0.969001\n",
      "distance atom1 to atom3 = 0.969000\n",
      "distance atom2 to atom3 = 1.526936\n"
     ]
    }
   ],
   "source": [
    "def get_dist(mol):\n",
    "    natoms = len(mol)\n",
    "    for i in range(natoms):\n",
    "        atom1 = mol[i]\n",
    "        for j in range(i + 1, natoms):\n",
    "            atom2 = mol[j]\n",
    "            dist = np.sqrt(np.sum((atom2 - atom1)**2))\n",
    "            print(\"distance atom%d to atom%d = %f\"%(i+1,j+1,dist))\n",
    "\n",
    "get_dist(mol)"
   ]
  },
  {
   "cell_type": "markdown",
   "id": "70297431-b345-4eb5-96d7-44b767710d42",
   "metadata": {},
   "source": [
    "# 7 `numpy` operations\n",
    "Generate an array containing integers 0 $\\rightarrow$ 14 (inclusive).\n",
    "1. Reshape the array to be a 3 $\\times$ 5 array.\n",
    "2. Transpose the array, so now it should be a 5 $\\times$ 3 array.\n",
    "3. Make the array one-dimensional again without using the reshape() method."
   ]
  },
  {
   "cell_type": "code",
   "execution_count": 81,
   "id": "8c990b90-7d41-4503-948f-284a09d73d17",
   "metadata": {},
   "outputs": [
    {
     "name": "stdout",
     "output_type": "stream",
     "text": [
      "[ 0  1  2  3  4  5  6  7  8  9 10 11 12 13 14]\n",
      "\n",
      "1.  [[ 0  1  2  3  4]\n",
      " [ 5  6  7  8  9]\n",
      " [10 11 12 13 14]]\n",
      "\n",
      "2.  [[ 0  5 10]\n",
      " [ 1  6 11]\n",
      " [ 2  7 12]\n",
      " [ 3  8 13]\n",
      " [ 4  9 14]]\n",
      "\n",
      "3.  [ 0  5 10  1  6 11  2  7 12  3  8 13  4  9 14]\n"
     ]
    }
   ],
   "source": [
    "print(arr := np.arange(15))\n",
    "print('\\n1. ',arr := arr.reshape((3,5)))\n",
    "print('\\n2. ',arr := arr.transpose())\n",
    "print('\\n3. ',arr := arr.reshape((15)))"
   ]
  },
  {
   "cell_type": "markdown",
   "id": "e5c41adb-c354-440e-8ee0-78c3d5aa104a",
   "metadata": {},
   "source": [
    "# 8 more `numpy` operations\n",
    "Generate a two-dimensional array with the following code.\n",
    "\n",
    "`arr2 = np.random.randint(0, high=10, size=15).reshape(5, 3)`\n",
    "1. Index the second element of the third column.\n",
    "2. Slice the array to get the entire third row.\n",
    "3. Slice the array to access the entire first column.\n",
    "4. Slice the array to get the last two elements of the first row."
   ]
  },
  {
   "cell_type": "code",
   "execution_count": 96,
   "id": "17228d0b-d82a-45de-b35c-be2dbb5971e2",
   "metadata": {},
   "outputs": [
    {
     "name": "stdout",
     "output_type": "stream",
     "text": [
      "[[1 6 2]\n",
      " [2 8 1]\n",
      " [3 3 6]\n",
      " [7 6 3]\n",
      " [8 2 7]]\n",
      "\n",
      "1.  3\n",
      "2.  [3 3 6]\n",
      "3.  [1 2 3 7 8]\n",
      "4.  [6 2]\n"
     ]
    }
   ],
   "source": [
    "arr2 = np.random.randint(0, high=10, size=15).reshape(5, 3)\n",
    "print(arr2)\n",
    "print(\"\\n1. \", arr2[2,1])\n",
    "print(\"2. \", arr2[2])\n",
    "print(\"3. \", arr2[:,0])\n",
    "print(\"4. \", arr2[0,-2:])"
   ]
  }
 ],
 "metadata": {
  "kernelspec": {
   "display_name": "Python 3 (ipykernel)",
   "language": "python",
   "name": "python3"
  },
  "language_info": {
   "codemirror_mode": {
    "name": "ipython",
    "version": 3
   },
   "file_extension": ".py",
   "mimetype": "text/x-python",
   "name": "python",
   "nbconvert_exporter": "python",
   "pygments_lexer": "ipython3",
   "version": "3.13.0"
  }
 },
 "nbformat": 4,
 "nbformat_minor": 5
}
