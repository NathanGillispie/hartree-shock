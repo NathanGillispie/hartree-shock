{
 "cells": [
  {
   "cell_type": "markdown",
   "id": "e591c467-b930-4d18-acdf-38577369773e",
   "metadata": {},
   "source": [
    "# Assignment 1_1\n",
    "**Nathan Gillispie, 1/28/25**\n",
    "## 1\n",
    "How many copper atoms are in a copper penny with a mass of 3.10 g? (Assume that the penny is composed of pure copper.)\n",
    "Avogadro's number $1~mol = 6.022 \\times 10^{23}$."
   ]
  },
  {
   "cell_type": "code",
   "execution_count": 12,
   "id": "ecc944f6-c016-446a-86ca-78a48b854ffe",
   "metadata": {},
   "outputs": [
    {
     "name": "stdout",
     "output_type": "stream",
     "text": [
      "Number of copper atoms = 1.2344322967741936e+25\n"
     ]
    }
   ],
   "source": [
    "NA = 6.022e23\n",
    "print(\"Number of copper atoms =\",63.546/3.10*NA)"
   ]
  },
  {
   "cell_type": "markdown",
   "id": "ca905b84-44d3-4f54-b613-e8156fdb956a",
   "metadata": {},
   "source": [
    "## 2\n",
    "An aluminum sphere contains $8.55 \\times 10^{22}$ aluminum atoms. What is the spheres's radius in centimeters? The density of aluminum is $2.70~g/cm^3$. The mass of the object depends on the density and volume of the object: $m = d\\times v$\n"
   ]
  },
  {
   "cell_type": "code",
   "execution_count": 26,
   "id": "24fe7fc9-b2b8-41f4-ad0b-e9681dd9dd1c",
   "metadata": {},
   "outputs": [
    {
     "name": "stdout",
     "output_type": "stream",
     "text": [
      "sphere radius = 0.6970756389029054 cm\n"
     ]
    }
   ],
   "source": [
    "molAl = 8.55e22/NA\n",
    "molarmassAl = 26.9815395 #g/mol\n",
    "gAl = molAl*molarmassAl\n",
    "volAl = gAl/2.70 #cm^3\n",
    "# V = 4/3 Pi r**3\n",
    "# therefore, r = (V*3/4/Pi)**(1/3)\n",
    "print(\"sphere radius =\",(3/4/3.14159265*volAl)**(1/3),\"cm\")"
   ]
  },
  {
   "cell_type": "markdown",
   "id": "503c9f34-8beb-482e-b51b-cb1002977e0c",
   "metadata": {},
   "source": [
    "## 3\n",
    "Calculate the wavelength (in nm) of the red light emitted by a barcode scanner that has a frequency of $4.62 \\times 10^{14}~s^{-1}$.\n",
    "The equation relates frequency to wavelength is $\\nu = \\frac{c}{\\lambda}$, and $c = 3.00 \\times 10^8~\\frac{m}{s}$."
   ]
  },
  {
   "cell_type": "code",
   "execution_count": 29,
   "id": "543c8102-772b-4300-8d2f-7da5db000f37",
   "metadata": {},
   "outputs": [
    {
     "name": "stdout",
     "output_type": "stream",
     "text": [
      "The wavelength in nm is 649.3506493506493\n"
     ]
    }
   ],
   "source": [
    "# lambda = c/nu\n",
    "# m/s / 1/s = m\n",
    "wavelength = 3.e8/4.62e14 #m\n",
    "print(\"The wavelength in nm is\",wavelength*1e9)"
   ]
  },
  {
   "cell_type": "markdown",
   "id": "9bc2805e-6ddf-4450-b503-c63735ff35fc",
   "metadata": {},
   "source": [
    "## 4\n",
    "The electron affinities (in $kJ/mol$) of a list of atoms are shown below."
   ]
  },
  {
   "cell_type": "code",
   "execution_count": 31,
   "id": "555d1d82-22f7-46d3-a83a-74667ffe2bd8",
   "metadata": {},
   "outputs": [],
   "source": [
    "H = -73\n",
    "Li = -60\n",
    "B = -27\n",
    "C = -122\n",
    "O = -141\n",
    "F = -328\n",
    "Na = -53\n",
    "Al = -43\n",
    "Si = -134\n",
    "P = -72\n",
    "S = -200\n",
    "Cl = -349"
   ]
  },
  {
   "cell_type": "markdown",
   "id": "9d3ee866-44fc-4cc0-8dc4-f1c6ed096b4a",
   "metadata": {},
   "source": [
    "Order these electron affinity values in a list, and then find the maximum, minimum, and average values. Also identify (with code) the value(s) in the middle of the list and describe any trends you observe."
   ]
  },
  {
   "cell_type": "code",
   "execution_count": 58,
   "id": "8db2552d-df7e-44c7-b9fd-911e955abff5",
   "metadata": {},
   "outputs": [
    {
     "name": "stdout",
     "output_type": "stream",
     "text": [
      "[-73, -60, -27, -122, -141, -328, -53, -43, -134, -72, -200, -349]\n",
      "max value is -27\n",
      "min value is -349\n",
      "average value is -133.5\n",
      "values in the middle are -122 and -73\n"
     ]
    }
   ],
   "source": [
    "values = [-73, -60, -27, -122, -141, -328, -53, -43, -134, -72, -200, -349]\n",
    "print(values)\n",
    "\n",
    "values.sort()\n",
    "\n",
    "print(\"max value is\", values[-1])\n",
    "print(\"min value is\", values[0])\n",
    "average = 0\n",
    "for v in values:\n",
    "    average += v/float(len(values))\n",
    "print(\"average value is\", average)\n",
    "if (len(values) % 2 == 0):\n",
    "    print(\"values in the middle are\", values[len(values)//2-1], \"and\", values[len(values)//2])\n",
    "else:\n",
    "    print(\"value in the middle is\", values[len(values)//2])"
   ]
  },
  {
   "cell_type": "markdown",
   "id": "a1778cd7-02fe-4687-b11d-142025137b2c",
   "metadata": {},
   "source": [
    "## 5\n",
    "Type the electron configuration of potassium in markdown."
   ]
  },
  {
   "cell_type": "markdown",
   "id": "a19edf9b-497a-4ad8-b05e-57425142c070",
   "metadata": {},
   "source": [
    "1s<sup>2</sup>2s<sup>2</sup>2p<sup>6</sup>3s<sup>2</sup>3p<sup>6</sup>4s<sup>1</sup>"
   ]
  },
  {
   "cell_type": "markdown",
   "id": "bed9241f-ff3b-45df-bf70-643d6dadfa64",
   "metadata": {},
   "source": [
    "## 6\n",
    "What volume (in L) of 0.150 M $KCl$ solution will completely react with 0.150L of a 0.175 M $Pb(NO_3)_2$ solution according to balanced chemical equation?\n",
    "$2KCl(aq) + Pb(NO_3)_2(aq) \\rightarrow PbCl_2(s) + 2KNO_3(aq)$"
   ]
  },
  {
   "cell_type": "code",
   "execution_count": 61,
   "id": "fe222cd9-efc5-4772-b5a0-d571294319b1",
   "metadata": {},
   "outputs": [
    {
     "name": "stdout",
     "output_type": "stream",
     "text": [
      "Volume of KCl is 0.0875 L\n"
     ]
    }
   ],
   "source": [
    "molLeadIINitrate = 0.175 * .150 # mol\n",
    "molKCl = molLeadIINitrate/2.\n",
    "print(\"Volume of KCl is\", molKCl/.150, \"L\")"
   ]
  },
  {
   "cell_type": "markdown",
   "id": "294a37fb-e9d9-4ae3-b5cc-70e88d8a3f30",
   "metadata": {},
   "source": [
    "## 7\n",
    "You are given several measured values listed below:"
   ]
  },
  {
   "cell_type": "code",
   "execution_count": 63,
   "id": "75e7ebb0-03e9-4a58-9768-d5c910e0fe75",
   "metadata": {},
   "outputs": [],
   "source": [
    "pressures = [1.0, 2.0, 1.5] #in atm\n",
    "volumes = [5.0, 10.0, 8.0] #in L\n",
    "moles = [2.0, 3.0, 4.0]\n",
    "R = 0.08206 #in L atm / mol K"
   ]
  },
  {
   "cell_type": "markdown",
   "id": "3634c5ed-2d7e-4486-95b1-8d21e514da91",
   "metadata": {},
   "source": [
    "$T = \\frac{pV}{nR}$, use this equation to write a loop to calculate temperature at each pressure, volume, and moles, find the maximam"
   ]
  },
  {
   "cell_type": "code",
   "execution_count": 76,
   "id": "4c4f04c3-5378-41fa-b933-9cf41734f771",
   "metadata": {},
   "outputs": [
    {
     "name": "stdout",
     "output_type": "stream",
     "text": [
      "temperatures: [30.465513039239582, 81.2413681046389, 36.5586156470875]\n",
      "\n",
      "Maximum temperature is 81.2413681046389 K\n"
     ]
    }
   ],
   "source": [
    "temps = [pressures[i]*volumes[i]/moles[i]/R for i in range(len(moles))]\n",
    "print(\"temperatures:\", temps)\n",
    "temps.sort()\n",
    "print(\"\\nMaximum temperature is\", temps[-1],\"K\")"
   ]
  },
  {
   "cell_type": "markdown",
   "id": "8f09cf2c-76c6-4efe-b2ae-5e49fd4ad3b5",
   "metadata": {},
   "source": [
    "## 8\n",
    "Extra point: Write a code to balance the chemical equation:\n",
    "$SrCl_2(aq) + Li_3PO_4(aq) \\rightarrow Sr_3(PO_4)_2(s) + LiCl(aq)$"
   ]
  },
  {
   "cell_type": "markdown",
   "id": "c8ad0d4e-6130-403e-aff9-36ac95575f50",
   "metadata": {},
   "source": [
    "The components on the left and right-hand side are $\\ce{Sr}$, $\\ce{Cl}$, $\\ce{Li}$, and $\\ce{PO4}$. Let's generalize this problem where $c_{r1}$ represents the coefficient of the left atom and A represents the stoichiometric coefficient of the first molecule.\n",
    "\n",
    "$$\\begin{align}A~c_{l1} &= C~c_{r1}\\\\ A~c_{l2} &= D~c_{r4}\\\\ B~c_{l3} &= D~c_{r3}\\\\ B~c_{l4} &= C~c_{r2}\\end{align}$$\n",
    "\n",
    "Where for us, $\\{c_{l1},c_{l2},c_{l3},c_{l4}\\} = \\{1,2,3,1\\}$ and the right coefficients are $\\{c_{r1},c_{r4},c_{r3},c_{r2}\\} = \\{3,1,1,2\\}$. Note that the reaction swaps indecies 2 and 4. The system of equations is overdetermined because there is a multiplicative constant. Let's eliminate one variable by replacing A with 1. From the equations above it can be seen that: $$\\begin{align}C&=\\frac{c_{l1}}{c_{r1}}\\\\ D&=\\frac{c_{l2}}{c_{r4}}\\\\ B&=D\\frac{c_{r3}}{c_{l3}}=\\frac{c_{l2}c_{r3}}{c_{r4}c_{l3}}\\\\ B&=C\\frac{c_{r2}}{c_{l4}}=\\frac{c_{l1}c_{r2}}{c_{r1}c_{l4}}\\end{align}$$\n",
    "\n",
    "Since the last two equations are equal. We have a condition for self-consistency. Therefore this can be employed as an immediate check for solvability.\n",
    "\n",
    "Next the coefficients are immediately computed, but too keep integer coefficients we use pairs.\n",
    "\n",
    "The coefficients are straightforward to calculate from there. To keep integer coefficients at the front, we need to find the LCM of all denominators and set A to that.\n",
    "begin{bmatrix}1& 0& 0& 0 \\\\ 0& 0& 0& 1\\\\ 0& 0& 1& 0\\\\ 0& 1& 0& 0\\end{bmatrix}$$$$\n"
   ]
  },
  {
   "cell_type": "code",
   "execution_count": 136,
   "id": "66bfdb8c-b1ca-46da-a155-0b1438173c35",
   "metadata": {},
   "outputs": [
    {
     "data": {
      "text/plain": [
       "(3, 2, 1, 6)"
      ]
     },
     "execution_count": 136,
     "metadata": {},
     "output_type": "execute_result"
    }
   ],
   "source": [
    "import math\n",
    "def solve(l, r):\n",
    "    if (len(l) != len(r)):\n",
    "        print(\"Coefficients have unequal lengths\")\n",
    "        return None\n",
    "\n",
    "    for el in l+r:\n",
    "        if type(i)!=int:\n",
    "            print(\"Not all integers\")\n",
    "            return None\n",
    "    \n",
    "    if (r[0]*l[1]*l[3]*r[2] != r[3]*l[0]*l[2]*r[1]):\n",
    "        print(\"System is not solvable\")\n",
    "        return None\n",
    "    \n",
    "    A = (1,1)\n",
    "    \n",
    "    g = math.gcd(l[0],r[0])\n",
    "    C = (l[0]//g,r[0]//g)\n",
    "\n",
    "    g = math.gcd(l[1],r[3])\n",
    "    D = (l[1]//g,r[3]//g)\n",
    "\n",
    "    g = math.gcd(l[0]*r[1], r[0]*l[3])\n",
    "    B = (l[0]*r[1]//g, r[0]*l[3]//g)\n",
    "\n",
    "    A = math.lcm(C[1],D[1],B[1])\n",
    "\n",
    "    return (A, A*B[0]//B[1], A*C[0]//C[1], A*D[0]//D[1]) \n",
    "    \n",
    "# Now let's solve\n",
    "solve([1,2,3,1], [3,2,1,1])"
   ]
  },
  {
   "cell_type": "markdown",
   "id": "63ecddb3-e1cb-46d9-9e23-4027ed81be23",
   "metadata": {},
   "source": [
    "The return means that the solution is $\\ce{3 SrCl2 + 2 Li3PO4 -> Sr_3(PO4)2 + 6 LiCl}$\n",
    "\n",
    "The above code works for any reaction in the form $\\ce{wx + yz -> wz + yx}$"
   ]
  }
 ],
 "metadata": {
  "kernelspec": {
   "display_name": "Python 3 (ipykernel)",
   "language": "python",
   "name": "python3"
  },
  "language_info": {
   "codemirror_mode": {
    "name": "ipython",
    "version": 3
   },
   "file_extension": ".py",
   "mimetype": "text/x-python",
   "name": "python",
   "nbconvert_exporter": "python",
   "pygments_lexer": "ipython3",
   "version": "3.12.7"
  }
 },
 "nbformat": 4,
 "nbformat_minor": 5
}
